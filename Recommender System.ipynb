{
 "metadata": {
  "name": ""
 },
 "nbformat": 3,
 "nbformat_minor": 0,
 "worksheets": [
  {
   "cells": [
    {
     "cell_type": "code",
     "collapsed": false,
     "input": [
      "import time\n",
      "import os\n",
      "from os.path import join, getsize\n",
      "\n",
      "import pandas as pd\n",
      "import numpy as np\n",
      "import itertools as it\n",
      "import scipy\n",
      "import sklearn\n",
      "from sklearn import metrics\n",
      "from sklearn import cross_validation"
     ],
     "language": "python",
     "metadata": {},
     "outputs": [],
     "prompt_number": 1
    },
    {
     "cell_type": "code",
     "collapsed": false,
     "input": [
      "movies = []\n",
      "\n",
      "for root, dirs, files in os.walk('/tmp/netflix/training_set/'):\n",
      "    for name in files:\n",
      "        filename = join(root, name)\n",
      "        movie_id = int(name.split('.')[0].split('_')[1])\n",
      "        train_data = pd.read_csv(filename, sep=',', names=[\"uid\",\"rating\",\"date\"], header=None, skiprows=[0])\n",
      "        train_data['mid'] = movie_id - 1  #for 0 base\n",
      "        movies.append(train_data)"
     ],
     "language": "python",
     "metadata": {},
     "outputs": [],
     "prompt_number": 2
    },
    {
     "cell_type": "code",
     "collapsed": false,
     "input": [
      "df = pd.concat(movies)"
     ],
     "language": "python",
     "metadata": {},
     "outputs": [],
     "prompt_number": 3
    },
    {
     "cell_type": "code",
     "collapsed": false,
     "input": [
      "del movies"
     ],
     "language": "python",
     "metadata": {},
     "outputs": [],
     "prompt_number": 4
    },
    {
     "cell_type": "code",
     "collapsed": false,
     "input": [
      "rs = cross_validation.ShuffleSplit(df.shape[0], n_iter=1, test_size=.10, random_state=0)"
     ],
     "language": "python",
     "metadata": {},
     "outputs": [],
     "prompt_number": 5
    },
    {
     "cell_type": "code",
     "collapsed": false,
     "input": [
      "for train_index, test_index in rs:\n",
      "    train = scipy.sparse.csr_matrix((df.rating.iloc[train_index], (df.mid.iloc[train_index], df.uid.iloc[train_index])))\n",
      "    test = scipy.sparse.csr_matrix((df.rating.iloc[test_index], (df.mid.iloc[test_index], df.uid.iloc[test_index])))"
     ],
     "language": "python",
     "metadata": {},
     "outputs": [],
     "prompt_number": 6
    },
    {
     "cell_type": "code",
     "collapsed": false,
     "input": [
      "def mat_mat_cos(matrix):\n",
      "    A = matrix.copy()\n",
      "    B = np.transpose(matrix)\n",
      "    C = (A * B).A\n",
      "    A.data = A.data**2\n",
      "    s1 = np.sqrt(A.sum(axis=1))\n",
      "    s2 = np.transpose(s1)\n",
      "    \n",
      "    return (C / s1 / s2).A"
     ],
     "language": "python",
     "metadata": {},
     "outputs": [],
     "prompt_number": 7
    },
    {
     "cell_type": "code",
     "collapsed": false,
     "input": [
      "def matrix_cos(matrix, vector):\n",
      "    A = matrix.copy()\n",
      "    v = vector.copy()\n",
      "    dot = A * np.transpose(v)\n",
      "    A.data = A.data ** 2\n",
      "    v.data = v.data ** 2\n",
      "    s1 = np.sqrt(A.sum(axis=1))\n",
      "    s2 = np.sqrt(v.sum())\n",
      "    return dot.todense()/(s1 * s2)"
     ],
     "language": "python",
     "metadata": {},
     "outputs": [],
     "prompt_number": 8
    },
    {
     "cell_type": "code",
     "collapsed": false,
     "input": [
      "%time sim_mat = mat_mat_cos(train)"
     ],
     "language": "python",
     "metadata": {},
     "outputs": [
      {
       "output_type": "stream",
       "stream": "stdout",
       "text": [
        "CPU times: user 3min 45s, sys: 4 s, total: 3min 49s\n",
        "Wall time: 3min 49s\n"
       ]
      }
     ],
     "prompt_number": 9
    },
    {
     "cell_type": "code",
     "collapsed": false,
     "input": [
      "sim_mat[0]"
     ],
     "language": "python",
     "metadata": {},
     "outputs": [
      {
       "metadata": {},
       "output_type": "pyout",
       "prompt_number": 10,
       "text": [
        "array([ 1.        ,  0.00838849,  0.00989659, ...,  0.0430414 ,\n",
        "        0.00811643,  0.03227983])"
       ]
      }
     ],
     "prompt_number": 10
    },
    {
     "cell_type": "code",
     "collapsed": false,
     "input": [
      "np.sqrt(metrics.mean_squared_error(test.data, [train.data.mean()]*len(test.data)))"
     ],
     "language": "python",
     "metadata": {},
     "outputs": [
      {
       "metadata": {},
       "output_type": "pyout",
       "prompt_number": 12,
       "text": [
        "1.0855011152951852"
       ]
      }
     ],
     "prompt_number": 12
    },
    {
     "cell_type": "code",
     "collapsed": false,
     "input": [
      "preds = []\n",
      "rating_start_time = time.time()\n",
      "\n",
      "for j in xrange(test.shape[0]):#xrange(10):\n",
      "    if np.any(test[j].indices):\n",
      "        count_mat = train[:, test[j].indices].copy()\n",
      "        score_sum = sim_mat[j] * count_mat\n",
      "        count_mat.data = np.ones(count_mat.nnz)\n",
      "        sim_sum = sim_mat[j] * count_mat\n",
      "        ratings = np.divide(score_sum, sim_sum)\n",
      "        preds.extend(ratings)\n",
      "    \n",
      "rating_end_time = time.time()\n",
      "print \"Rating calculation for {}: {}\".format(j, rating_end_time - rating_start_time)"
     ],
     "language": "python",
     "metadata": {},
     "outputs": [
      {
       "output_type": "stream",
       "stream": "stdout",
       "text": [
        "Rating calculation for 17769: 33816.9999371\n"
       ]
      }
     ],
     "prompt_number": 48
    },
    {
     "cell_type": "code",
     "collapsed": false,
     "input": [
      "len(preds)"
     ],
     "language": "python",
     "metadata": {},
     "outputs": [
      {
       "metadata": {},
       "output_type": "pyout",
       "prompt_number": 49,
       "text": [
        "10048051"
       ]
      }
     ],
     "prompt_number": 49
    },
    {
     "cell_type": "code",
     "collapsed": false,
     "input": [
      "len(test.data)"
     ],
     "language": "python",
     "metadata": {},
     "outputs": [
      {
       "metadata": {},
       "output_type": "pyout",
       "prompt_number": 50,
       "text": [
        "10048051"
       ]
      }
     ],
     "prompt_number": 50
    },
    {
     "cell_type": "code",
     "collapsed": false,
     "input": [
      "n_preds = np.array(preds)"
     ],
     "language": "python",
     "metadata": {},
     "outputs": [],
     "prompt_number": 52
    },
    {
     "cell_type": "code",
     "collapsed": false,
     "input": [
      "n_preds[np.isnan(n_preds)] = train.data.mean()"
     ],
     "language": "python",
     "metadata": {},
     "outputs": [],
     "prompt_number": 53
    },
    {
     "cell_type": "code",
     "collapsed": false,
     "input": [
      "np.sqrt(metrics.mean_squared_error(test.data, n_preds))"
     ],
     "language": "python",
     "metadata": {},
     "outputs": [
      {
       "metadata": {},
       "output_type": "pyout",
       "prompt_number": 54,
       "text": [
        "0.97507086443585766"
       ]
      }
     ],
     "prompt_number": 54
    },
    {
     "cell_type": "code",
     "collapsed": false,
     "input": [],
     "language": "python",
     "metadata": {},
     "outputs": []
    }
   ],
   "metadata": {}
  }
 ]
}