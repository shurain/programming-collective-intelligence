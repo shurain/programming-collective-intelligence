{
 "metadata": {
  "name": ""
 },
 "nbformat": 3,
 "nbformat_minor": 0,
 "worksheets": [
  {
   "cells": [
    {
     "cell_type": "markdown",
     "metadata": {},
     "source": [
      "Hierarchical clustering"
     ]
    },
    {
     "cell_type": "code",
     "collapsed": false,
     "input": [
      "import fileinput\n",
      "\n",
      "from scipy import spatial"
     ],
     "language": "python",
     "metadata": {},
     "outputs": [],
     "prompt_number": 16
    },
    {
     "cell_type": "code",
     "collapsed": false,
     "input": [
      "def readfile(filename):\n",
      "    row_names = []\n",
      "    data = []\n",
      "    for line in fileinput.input([filename]):\n",
      "        if fileinput.isfirstline():\n",
      "            col_names = line.strip().split('\\t')[1:]\n",
      "        else:\n",
      "            p = line.strip().split('\\t')\n",
      "            row_names.append(p[0])\n",
      "            data.append([float(x) for x in p[1:]])\n",
      "    return row_names, col_names, data"
     ],
     "language": "python",
     "metadata": {},
     "outputs": [],
     "prompt_number": 17
    },
    {
     "cell_type": "code",
     "collapsed": false,
     "input": [
      "spatial.distance.correlation([1, 1, 2, 0], [2, 3, 0, 1])"
     ],
     "language": "python",
     "metadata": {},
     "outputs": [
      {
       "metadata": {},
       "output_type": "pyout",
       "prompt_number": 15,
       "text": [
        "1.316227766016838"
       ]
      }
     ],
     "prompt_number": 15
    },
    {
     "cell_type": "code",
     "collapsed": false,
     "input": [
      "class bicluster:\n",
      "    def __init__(self, vec, left=None, right=None, distance=0.0, id=None):\n",
      "        self.left = left\n",
      "        self.right = right\n",
      "        self.vec = vec\n",
      "        self.id = id\n",
      "        self.distance = distance"
     ],
     "language": "python",
     "metadata": {},
     "outputs": [],
     "prompt_number": 31
    },
    {
     "cell_type": "code",
     "collapsed": false,
     "input": [
      "import itertools"
     ],
     "language": "python",
     "metadata": {},
     "outputs": [],
     "prompt_number": 21
    },
    {
     "cell_type": "code",
     "collapsed": false,
     "input": [
      "x = ['a', 'b', 'c', 'd', 'e']\n",
      "\n",
      "for i, j in itertools.combinations(x, 2):\n",
      "    print i, j"
     ],
     "language": "python",
     "metadata": {},
     "outputs": [
      {
       "output_type": "stream",
       "stream": "stdout",
       "text": [
        "a b\n",
        "a c\n",
        "a d\n",
        "a e\n",
        "b c\n",
        "b d\n",
        "b e\n",
        "c d\n",
        "c e\n",
        "d e\n"
       ]
      }
     ],
     "prompt_number": 25
    },
    {
     "cell_type": "code",
     "collapsed": false,
     "input": [
      "x.index('a')"
     ],
     "language": "python",
     "metadata": {},
     "outputs": [
      {
       "metadata": {},
       "output_type": "pyout",
       "prompt_number": 27,
       "text": [
        "0"
       ]
      }
     ],
     "prompt_number": 27
    },
    {
     "cell_type": "code",
     "collapsed": false,
     "input": [
      "def hcluster(rows, distance=spatial.distance.correlation):\n",
      "    distances = {}\n",
      "    currentclustid = -1\n",
      "    \n",
      "    clust = [bicluster(row, id=i) for i, row in enumerate(rows)]\n",
      "    \n",
      "    while len(clust) > 1:\n",
      "        lowestpair = (0, 1)\n",
      "        closest = distance(clust[0].vec, clust[1].vec)\n",
      "        \n",
      "        for i, j in itertools.combinations(clust, 2):\n",
      "            if (i.id, j.id) not in distances:\n",
      "                distances[(i.id, j.id)] = distance(i.vec, j.vec)\n",
      "            d = distances[(i.id, j.id)]\n",
      "            \n",
      "            if d < closest:\n",
      "                closest = d\n",
      "                lowestpair = (clust.index(i), clust.index(j))\n",
      "        \n",
      "        mergevec = [(clust[lowestpair[0]].vec[i] + clust[lowestpair[1]].vec[i]) / 2.0 for i in range(len(clust[0].vec))]\n",
      "        newcluster = bicluster(mergevec, left=clust[lowestpair[0]], right=clust[lowestpair[1]], distance=closest, id=currentclustid)\n",
      "        \n",
      "        currentclustid -= 1\n",
      "        del clust[lowestpair[1]]\n",
      "        del clust[lowestpair[0]]\n",
      "        clust.append(newcluster)\n",
      "        \n",
      "    return clust[0]"
     ],
     "language": "python",
     "metadata": {},
     "outputs": [],
     "prompt_number": 51
    },
    {
     "cell_type": "code",
     "collapsed": false,
     "input": [
      "blognames, words, data = readfile('blogdata.txt')"
     ],
     "language": "python",
     "metadata": {},
     "outputs": [],
     "prompt_number": 29
    },
    {
     "cell_type": "code",
     "collapsed": false,
     "input": [
      "clust = hcluster(data)"
     ],
     "language": "python",
     "metadata": {},
     "outputs": [],
     "prompt_number": 52
    },
    {
     "cell_type": "code",
     "collapsed": false,
     "input": [
      "def printclust(clust, labels=None, n=0):\n",
      "    for i in range(n):\n",
      "        print ' ',\n",
      "    if clust.id < 0:\n",
      "        print '-'\n",
      "    else:\n",
      "        if labels == None:\n",
      "            print clust.id\n",
      "        else:\n",
      "            print labels[clust.id]\n",
      "    if clust.left != None:\n",
      "        printclust(clust.left, labels=labels, n=n+1)\n",
      "    if clust.right != None:\n",
      "        printclust(clust.right, labels=labels, n=n+1)"
     ],
     "language": "python",
     "metadata": {},
     "outputs": [],
     "prompt_number": 59
    },
    {
     "cell_type": "code",
     "collapsed": false,
     "input": [
      "printclust(clust, labels=blognames)"
     ],
     "language": "python",
     "metadata": {},
     "outputs": [
      {
       "output_type": "stream",
       "stream": "stdout",
       "text": [
        "-\n",
        "  gapingvoid: \"cartoons drawn on the back of business cards\"\n",
        "  -\n",
        "    -\n",
        "      Schneier on Security\n",
        "      Instapundit.com\n",
        "    -\n",
        "      The Blotter\n",
        "      -\n",
        "        -\n",
        "          MetaFilter\n",
        "          -\n",
        "            SpikedHumor\n",
        "            -\n",
        "              Captain's Quarters\n",
        "              -\n",
        "                Michelle Malkin\n",
        "                -\n",
        "                  -\n",
        "                    NewsBusters.org - Exposing Liberal Media Bias\n",
        "                    -\n",
        "                      -\n",
        "                        Hot Air\n",
        "                        Crooks and Liars\n",
        "                      -\n",
        "                        Power Line\n",
        "                        Think Progress\n",
        "                  -\n",
        "                    Andrew Sullivan | The Daily Dish\n",
        "                    -\n",
        "                      Little Green Footballs\n",
        "                      -\n",
        "                        Eschaton\n",
        "                        -\n",
        "                          Talking Points Memo: by Joshua Micah Marshall\n",
        "                          Daily Kos\n",
        "        -\n",
        "          43 Folders\n",
        "          -\n",
        "            TechEBlog\n",
        "            -\n",
        "              -\n",
        "                Mashable!\n",
        "                Signum sine tinnitu--by Guy Kawasaki\n",
        "              -\n",
        "                -\n",
        "                  -\n",
        "                    Slashdot\n",
        "                    -\n",
        "                      MAKE Magazine\n",
        "                      Boing Boing\n",
        "                  -\n",
        "                    -\n",
        "                      Oilman\n",
        "                      -\n",
        "                        Online Marketing Report\n",
        "                        -\n",
        "                          Treehugger\n",
        "                          -\n",
        "                            SimpleBits\n",
        "                            -\n",
        "                              Cool Hunting\n",
        "                              -\n",
        "                                Steve Pavlina's Personal Development Blog\n",
        "                                -\n",
        "                                  -\n",
        "                                    ScienceBlogs : Combined Feed\n",
        "                                    Pharyngula\n",
        "                                  -\n",
        "                                    BuzzMachine\n",
        "                                    -\n",
        "                                      Copyblogger\n",
        "                                      -\n",
        "                                        -\n",
        "                                          The Viral Garden\n",
        "                                          Seth's Blog\n",
        "                                        -\n",
        "                                          -\n",
        "                                            Bloggers Blog: Blogging the Blogsphere\n",
        "                                            -\n",
        "                                              Sifry's Alerts\n",
        "                                              ProBlogger Blog Tips\n",
        "                                          -\n",
        "                                            -\n",
        "                                              Valleywag\n",
        "                                              Scobleizer - Tech Geek Blogger\n",
        "                                            -\n",
        "                                              -\n",
        "                                                O'Reilly Radar\n",
        "                                                456 Berea Street\n",
        "                                              -\n",
        "                                                Lifehacker\n",
        "                                                -\n",
        "                                                  Quick Online Tips\n",
        "                                                  -\n",
        "                                                    Publishing 2.0\n",
        "                                                    -\n",
        "                                                      Micro Persuasion\n",
        "                                                      -\n",
        "                                                        A Consuming Experience (full feed)\n",
        "                                                        -\n",
        "                                                          John Battelle's Searchblog\n",
        "                                                          -\n",
        "                                                            Search Engine Watch Blog\n",
        "                                                            -\n",
        "                                                              Read/WriteWeb\n",
        "                                                              -\n",
        "                                                                Official Google Blog\n",
        "                                                                -\n",
        "                                                                  Search Engine Roundtable\n",
        "                                                                  -\n",
        "                                                                    Google Operating System\n",
        "                                                                    Google Blogoscoped\n",
        "                    -\n",
        "                      -\n",
        "                        -\n",
        "                          -\n",
        "                            Blog Maverick\n",
        "                            -\n",
        "                              Download Squad\n",
        "                              -\n",
        "                                CoolerHeads Prevail\n",
        "                                -\n",
        "                                  Joystiq\n",
        "                                  The Unofficial Apple Weblog (TUAW)\n",
        "                          -\n",
        "                            Autoblog\n",
        "                            -\n",
        "                              Engadget\n",
        "                              TMZ.com\n",
        "                        -\n",
        "                          Matt Cutts: Gadgets, Google, and SEO\n",
        "                          -\n",
        "                            PaulStamatiou.com\n",
        "                            -\n",
        "                              -\n",
        "                                GigaOM\n",
        "                                TechCrunch\n",
        "                              -\n",
        "                                -\n",
        "                                  Techdirt\n",
        "                                  Creating Passionate Users\n",
        "                                -\n",
        "                                  Joho the Blog\n",
        "                                  -\n",
        "                                    -\n",
        "                                      PerezHilton.com\n",
        "                                      Jeremy Zawodny's blog\n",
        "                                    -\n",
        "                                      Joi Ito's Web\n",
        "                                      -\n",
        "                                        ongoing\n",
        "                                        -\n",
        "                                          Joel on Software\n",
        "                                          -\n",
        "                                            -\n",
        "                                              we make money not art\n",
        "                                              -\n",
        "                                                plasticbag.org\n",
        "                                                -\n",
        "                                                  Signal vs. Noise\n",
        "                                                  -\n",
        "                                                    kottke.org\n",
        "                                                    -\n",
        "                                                      Neil Gaiman's Journal\n",
        "                                                      -\n",
        "                                                        -\n",
        "                                                          The Huffington Post | Raw Feed\n",
        "                                                          -\n",
        "                                                            Wonkette\n",
        "                                                            -\n",
        "                                                              Gawker\n",
        "                                                              -\n",
        "                                                                The Superficial - Because You're Ugly\n",
        "                                                                Go Fug Yourself\n",
        "                                                        -\n",
        "                                                          Deadspin\n",
        "                                                          Gothamist\n",
        "                                            -\n",
        "                                              Kotaku\n",
        "                                              Gizmodo\n",
        "                      -\n",
        "                        Shoemoney - Skills to pay the bills\n",
        "                        -\n",
        "                          flagrantdisregard\n",
        "                          -\n",
        "                            WWdN: In Exile\n",
        "                            -\n",
        "                              Derek Powazek\n",
        "                              -\n",
        "                                lifehack.org\n",
        "                                Dave Shea's mezzoblue\n",
        "                -\n",
        "                  Wired News: Top Stories\n",
        "                  -\n",
        "                    Topix.net Weblog\n",
        "                    Bloglines | News\n"
       ]
      }
     ],
     "prompt_number": 61
    },
    {
     "cell_type": "code",
     "collapsed": false,
     "input": [
      "import numpy as np\n",
      "np_data = np.array(data)"
     ],
     "language": "python",
     "metadata": {},
     "outputs": [],
     "prompt_number": 63
    },
    {
     "cell_type": "code",
     "collapsed": false,
     "input": [
      "np_data.shape"
     ],
     "language": "python",
     "metadata": {},
     "outputs": [
      {
       "metadata": {},
       "output_type": "pyout",
       "prompt_number": 64,
       "text": [
        "(99, 706)"
       ]
      }
     ],
     "prompt_number": 64
    },
    {
     "cell_type": "code",
     "collapsed": false,
     "input": [
      "from sklearn.cluster import KMeans"
     ],
     "language": "python",
     "metadata": {},
     "outputs": [],
     "prompt_number": 65
    },
    {
     "cell_type": "code",
     "collapsed": false,
     "input": [
      "kmeans = KMeans(init='k-means++', n_clusters=10)\n",
      "kmeans.fit(np_data)\n",
      "\n",
      "k_means_labels = kmeans.labels_\n",
      "k_means_cluster_centers = kmeans.cluster_centers_\n",
      "k_means_labels_unique = np.unique(k_means_labels)\n",
      "\n",
      "from sklearn.decomposition import PCA\n",
      "\n",
      "pca = PCA(n_components=2).fit(np_data)\n",
      "\n",
      "scatter(pca.transform(np_data)[:,0], pca.transform(np_data)[:,1])\n",
      "scatter(pca.transform(k_means_cluster_centers)[:,0], pca.transform(k_means_cluster_centers)[:,1], color='pink')"
     ],
     "language": "python",
     "metadata": {},
     "outputs": [
      {
       "metadata": {},
       "output_type": "pyout",
       "prompt_number": 98,
       "text": [
        "<matplotlib.collections.PathCollection at 0x107f25990>"
       ]
      },
      {
       "metadata": {},
       "output_type": "display_data",
       "png": "[encoded data removed]",
       "text": [
        "<matplotlib.figure.Figure at 0x107e956d0>"
       ]
      }
     ],
     "prompt_number": 98
    },
    {
     "cell_type": "code",
     "collapsed": false,
     "input": [],
     "language": "python",
     "metadata": {},
     "outputs": []
    }
   ],
   "metadata": {}
  }
 ]
}